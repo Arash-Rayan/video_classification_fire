{
 "cells": [
  {
   "cell_type": "code",
   "execution_count": 2,
   "id": "c4244e1d",
   "metadata": {},
   "outputs": [],
   "source": [
    "import torch \n",
    "import os \n",
    "from torch import nn\n",
    "import albumentations as A\n",
    "import numpy as np"
   ]
  },
  {
   "cell_type": "code",
   "execution_count": 2,
   "id": "0b0e9068",
   "metadata": {},
   "outputs": [],
   "source": [
    "root_model = 'loaded_models'\n",
    "device = 'cuda' if torch.cuda.is_available() else 'cpu'"
   ]
  },
  {
   "cell_type": "code",
   "execution_count": 3,
   "id": "26ced90f",
   "metadata": {},
   "outputs": [],
   "source": [
    "def load_model(root:str , name:str) :\n",
    "    path = os.path.join(root, name)\n",
    "    model_dict = torch.load(path , map_location=device)\n",
    "    print(model_dict.keys())\n",
    "    return model_dict"
   ]
  },
  {
   "cell_type": "code",
   "execution_count": 4,
   "id": "3c93a548",
   "metadata": {},
   "outputs": [
    {
     "name": "stdout",
     "output_type": "stream",
     "text": [
      "dict_keys(['model', 'epoch', 'optimizer', 'train_loss_list', 'val_loss_list'])\n"
     ]
    }
   ],
   "source": [
    "model_dict = load_model(root_model ,'slow_fast_info_main.pt')"
   ]
  },
  {
   "cell_type": "code",
   "execution_count": 5,
   "id": "4ca92626",
   "metadata": {},
   "outputs": [],
   "source": [
    "model_state, epoch, optimizer_state , train_losses, val_losses = (\n",
    "    model_dict['model'],\n",
    "    model_dict['epoch'],\n",
    "    model_dict['optimizer'],\n",
    "    model_dict['train_loss_list'],\n",
    "    model_dict['val_loss_list']\n",
    ")"
   ]
  },
  {
   "cell_type": "code",
   "execution_count": 6,
   "id": "fce33605",
   "metadata": {},
   "outputs": [
    {
     "name": "stderr",
     "output_type": "stream",
     "text": [
      "Using cache found in C:\\Users\\alchemist/.cache\\torch\\hub\\facebookresearch_pytorchvideo_main\n"
     ]
    }
   ],
   "source": [
    "model = torch.hub.load('facebookresearch/pytorchvideo', 'slowfast_r50' , pretrained=True)\n",
    "in_features = model.blocks[-1].proj.in_features\n",
    "model.blocks[-1].proj = nn.Linear(in_features , 1)"
   ]
  },
  {
   "cell_type": "code",
   "execution_count": 7,
   "id": "d35750a7",
   "metadata": {},
   "outputs": [
    {
     "data": {
      "text/plain": [
       "<All keys matched successfully>"
      ]
     },
     "execution_count": 7,
     "metadata": {},
     "output_type": "execute_result"
    }
   ],
   "source": [
    "model.load_state_dict(model_state)"
   ]
  },
  {
   "cell_type": "code",
   "execution_count": 8,
   "id": "1fb6ea18",
   "metadata": {},
   "outputs": [
    {
     "data": {
      "text/plain": [
       "(deque([], maxlen=30), [])"
      ]
     },
     "execution_count": 8,
     "metadata": {},
     "output_type": "execute_result"
    }
   ],
   "source": [
    "from collections import deque\n",
    "frame_queue = deque(maxlen=30)\n",
    "frame_queue , list(frame_queue)"
   ]
  },
  {
   "cell_type": "code",
   "execution_count": 9,
   "id": "0fd8f918",
   "metadata": {},
   "outputs": [],
   "source": [
    "def transform_data(data:torch.tensor , pathway_alpha):\n",
    "        def pack_pathway_output(frames, alpha):\n",
    "            fast_pathway = frames\n",
    "            slow_pathway = frames[:, :, ::alpha, :, :]  # temporal subsampling\n",
    "            return [slow_pathway, fast_pathway]\n",
    "    \n",
    "        def padd_to_32(data:torch.tensor) : \n",
    "            T = data.shape[2]\n",
    "            if T == 32 : \n",
    "                return data \n",
    "            elif T < 32: \n",
    "                padd = 32 - T \n",
    "                st1 =  data[:,:,-1:,:,:].repeat(1, 1, padd , 1, 1)\n",
    "                stacked = torch.cat([st1, data] , dim=2)\n",
    "                return stacked\n",
    "            else: \n",
    "                return data[:, :, :32, : , :] \n",
    "\n",
    "        transform = A.Compose([\n",
    "            A.SmallestMaxSize(max_size=256),  \n",
    "            A.CenterCrop(height=224, width=224),\n",
    "            A.Normalize(mean=[0.45]*3, std=[0.225]*3),\n",
    "        ])\n",
    "\n",
    "\n",
    "        # input shape N, C , D , H , W \n",
    "        padd_data = padd_to_32(data)\n",
    "        p_data = padd_data.permute(0, 2 , 1, 3 ,4)\n",
    "        N, D, C, H, W = p_data.shape\n",
    "        r_data = p_data.reshape(N * D , H, W , C)\n",
    "        n_data = r_data.cpu().numpy()\n",
    "        augmented = transform(images=n_data)\n",
    "        augmented_video_frames = augmented['images']\n",
    "        D, H , W , C = augmented_video_frames.shape # for test i need that since i didn't resize it with cv like training \n",
    "        data = augmented_video_frames.reshape(N, D , C , H , W)  \n",
    "        data = data.transpose(0 , 2 , 1, 3, 4)\n",
    "        data = torch.from_numpy(data).to(device)\n",
    "        data = pack_pathway_output(data , pathway_alpha)   # this transofrms frame to slow and fast double frames \n",
    "        \n",
    "        return data"
   ]
  },
  {
   "cell_type": "code",
   "execution_count": 21,
   "id": "1e172108",
   "metadata": {},
   "outputs": [
    {
     "name": "stdout",
     "output_type": "stream",
     "text": [
      "0.99998939037323\n"
     ]
    }
   ],
   "source": [
    "from collections import deque\n",
    "import torch\n",
    "import cv2 as cv\n",
    "import numpy as np \n",
    "frame_queue = deque(maxlen=25)  \n",
    "cap = cv.VideoCapture('test_data/vid/none_test1.mp4')\n",
    "counter = 0 \n",
    "while True:\n",
    "    is_playing, frame = cap.read()\n",
    "    if not is_playing:\n",
    "        break\n",
    "    counter+=1\n",
    "\n",
    "    frame_rgb = cv.cvtColor(frame, cv.COLOR_BGR2RGB)\n",
    "    frame_tensor = torch.tensor(frame_rgb)\n",
    "    frame_queue.append(frame_tensor)\n",
    "\n",
    "    if len(frame_queue) == 25:\n",
    "        s_frame = torch.stack(list(frame_queue))\n",
    "        b_frame = s_frame.unsqueeze(0) \n",
    "        per_frame = b_frame.permute(0, 4, 1, 2, 3)\n",
    "        data = transform_data(per_frame, 4)\n",
    "\n",
    "        with torch.inference_mode():\n",
    "            pred = model(data)\n",
    "            prob = torch.sigmoid(pred).item()\n",
    "            print(prob)\n",
    "\n",
    "        # text = f\"Fire prob: {prob:.2f}\"\n",
    "        # cv.putText(frame, text, (10, 30), cv.FONT_HERSHEY_SIMPLEX,\n",
    "        #            1, (0, 0, 255), 2, cv.LINE_AA)\n",
    "        # frame_queue.clear()\n",
    "    # cv.imshow('video', frame)\n",
    "\n",
    "    # if cv.waitKey(1) & 0xFF == ord('q'):\n",
    "        # break\n",
    "\n",
    "cap.release()\n",
    "# cv.destroyAllWindows()\n",
    "\n"
   ]
  },
  {
   "cell_type": "code",
   "execution_count": 11,
   "id": "b269773b",
   "metadata": {},
   "outputs": [
    {
     "data": {
      "text/plain": [
       "(38, 37)"
      ]
     },
     "execution_count": 11,
     "metadata": {},
     "output_type": "execute_result"
    }
   ],
   "source": [
    "len(val_losses) , epoch"
   ]
  },
  {
   "cell_type": "code",
   "execution_count": 12,
   "id": "33547f0e",
   "metadata": {},
   "outputs": [
    {
     "data": {
      "text/plain": [
       "[<matplotlib.lines.Line2D at 0x26de873ead0>]"
      ]
     },
     "execution_count": 12,
     "metadata": {},
     "output_type": "execute_result"
    },
    {
     "data": {
      "image/png": "[encoded data removed]",
      "text/plain": [
       "<Figure size 640x480 with 1 Axes>"
      ]
     },
     "metadata": {},
     "output_type": "display_data"
    }
   ],
   "source": [
    "import matplotlib.pyplot as plt \n",
    "fig , axes = plt.subplots()\n",
    "axes.plot(range(1 , epoch+2), val_losses)\n",
    "axes.plot(range(1, epoch + 2) , train_losses , color = 'green')"
   ]
  },
  {
   "cell_type": "code",
   "execution_count": null,
   "id": "ca17ff28",
   "metadata": {},
   "outputs": [],
   "source": [
    "def __getitem__(self, idx):\n",
    "    chunk_path, label = self.samples[idx]\n",
    "    image_files = sorted(os.listdir(chunk_path))[:self.chunk_size]  # sort to keep frame order\n",
    "\n",
    "    frames = []\n",
    "    for fname in image_files:\n",
    "        img_path = os.path.join(chunk_path, fname)\n",
    "        img = Image.open(img_path).convert(\"RGB\")  # ensure 3 channels\n",
    "        img_np = np.array(img)\n",
    "\n",
    "        # Albumentations expects NumPy array\n",
    "        augmented = self.transform(image=img_np)['image']\n",
    "\n",
    "        # Convert to torch tensor and reshape to [C, H, W]\n",
    "        tensor_img = torch.from_numpy(augmented).permute(2, 0, 1)  # [H, W, C] → [C, H, W]\n",
    "        frames.append(tensor_img)\n",
    "\n",
    "    # Stack along time dimension: [T, C, H, W] → transpose to [C, T, H, W]\n",
    "    video_tensor = torch.stack(frames, dim=0).permute(1, 0, 2, 3)\n",
    "\n",
    "    return video_tensor.float(), torch.tensor(label, dtype=torch.float32)\n"
   ]
  },
  {
   "cell_type": "code",
   "execution_count": 44,
   "id": "9f8ea2f7",
   "metadata": {},
   "outputs": [
    {
     "data": {
      "text/plain": [
       "tensor([[[9, 2, 5, 6],\n",
       "         [7, 0, 3, 0],\n",
       "         [1, 4, 7, 4]],\n",
       "\n",
       "        [[1, 5, 0, 6],\n",
       "         [9, 5, 5, 7],\n",
       "         [1, 6, 3, 9]]])"
      ]
     },
     "execution_count": 44,
     "metadata": {},
     "output_type": "execute_result"
    }
   ],
   "source": [
    "torch.random.seed()\n",
    "test = torch.randint(0 , 10 , (2 , 3 ,4 ))\n",
    "test"
   ]
  },
  {
   "cell_type": "code",
   "execution_count": 45,
   "id": "45670699",
   "metadata": {},
   "outputs": [
    {
     "data": {
      "text/plain": [
       "(2, 3, 4)"
      ]
     },
     "execution_count": 45,
     "metadata": {},
     "output_type": "execute_result"
    }
   ],
   "source": [
    "batch , size , depth  = test.shape\n",
    "batch , size , depth"
   ]
  },
  {
   "cell_type": "code",
   "execution_count": 50,
   "id": "c4cd937f",
   "metadata": {},
   "outputs": [
    {
     "data": {
      "text/plain": [
       "(tensor([[[9, 7, 1],\n",
       "          [2, 0, 4],\n",
       "          [5, 3, 7],\n",
       "          [6, 0, 4]],\n",
       " \n",
       "         [[1, 9, 1],\n",
       "          [5, 5, 6],\n",
       "          [0, 5, 3],\n",
       "          [6, 7, 9]]]),\n",
       " torch.Size([2, 4, 3]))"
      ]
     },
     "execution_count": 50,
     "metadata": {},
     "output_type": "execute_result"
    }
   ],
   "source": [
    "trans_test= torch.permute(test , (0, 2 , 1))\n",
    "trans_test , trans_test.shape"
   ]
  },
  {
   "cell_type": "code",
   "execution_count": 51,
   "id": "6b49138f",
   "metadata": {},
   "outputs": [],
   "source": [
    "B , D , S = trans_test.shape"
   ]
  },
  {
   "cell_type": "code",
   "execution_count": 55,
   "id": "bcc2275f",
   "metadata": {},
   "outputs": [
    {
     "data": {
      "text/plain": [
       "(tensor([[9, 7, 1],\n",
       "         [2, 0, 4],\n",
       "         [5, 3, 7],\n",
       "         [6, 0, 4],\n",
       "         [1, 9, 1],\n",
       "         [5, 5, 6],\n",
       "         [0, 5, 3],\n",
       "         [6, 7, 9]]),\n",
       " torch.Size([8, 3]))"
      ]
     },
     "execution_count": 55,
     "metadata": {},
     "output_type": "execute_result"
    }
   ],
   "source": [
    "reshaped_test = trans_test.reshape(B*D , S)\n",
    "reshaped_test , reshaped_test.shape"
   ]
  },
  {
   "cell_type": "code",
   "execution_count": 57,
   "id": "0d0c2b6c",
   "metadata": {},
   "outputs": [
    {
     "data": {
      "text/plain": [
       "tensor([[[9, 7, 1],\n",
       "         [2, 0, 4],\n",
       "         [5, 3, 7],\n",
       "         [6, 0, 4]],\n",
       "\n",
       "        [[1, 9, 1],\n",
       "         [5, 5, 6],\n",
       "         [0, 5, 3],\n",
       "         [6, 7, 9]]])"
      ]
     },
     "execution_count": 57,
     "metadata": {},
     "output_type": "execute_result"
    }
   ],
   "source": [
    "reshaped_test = reshaped_test.reshape(B , D , S)\n",
    "reshaped_test"
   ]
  },
  {
   "cell_type": "code",
   "execution_count": 58,
   "id": "0cc0ab44",
   "metadata": {},
   "outputs": [
    {
     "data": {
      "text/plain": [
       "torch.Size([2, 4, 3])"
      ]
     },
     "execution_count": 58,
     "metadata": {},
     "output_type": "execute_result"
    }
   ],
   "source": [
    "reshaped_test.shape"
   ]
  },
  {
   "cell_type": "code",
   "execution_count": 60,
   "id": "6d5f444b",
   "metadata": {},
   "outputs": [
    {
     "data": {
      "text/plain": [
       "torch.Size([2, 3, 4])"
      ]
     },
     "execution_count": 60,
     "metadata": {},
     "output_type": "execute_result"
    }
   ],
   "source": [
    "final_test = reshaped_test.permute(0 ,2 , 1)\n",
    "final_test.shape"
   ]
  },
  {
   "cell_type": "code",
   "execution_count": 62,
   "id": "1b0f09c5",
   "metadata": {},
   "outputs": [
    {
     "data": {
      "text/plain": [
       "tensor([[[9, 2, 5, 6],\n",
       "         [7, 0, 3, 0],\n",
       "         [1, 4, 7, 4]],\n",
       "\n",
       "        [[1, 5, 0, 6],\n",
       "         [9, 5, 5, 7],\n",
       "         [1, 6, 3, 9]]])"
      ]
     },
     "execution_count": 62,
     "metadata": {},
     "output_type": "execute_result"
    }
   ],
   "source": [
    "final_test"
   ]
  },
  {
   "cell_type": "code",
   "execution_count": 63,
   "id": "4150bbd4",
   "metadata": {},
   "outputs": [
    {
     "data": {
      "text/plain": [
       "tensor([[[9, 2, 5, 6],\n",
       "         [7, 0, 3, 0],\n",
       "         [1, 4, 7, 4]],\n",
       "\n",
       "        [[1, 5, 0, 6],\n",
       "         [9, 5, 5, 7],\n",
       "         [1, 6, 3, 9]]])"
      ]
     },
     "execution_count": 63,
     "metadata": {},
     "output_type": "execute_result"
    }
   ],
   "source": [
    "test"
   ]
  },
  {
   "cell_type": "code",
   "execution_count": 8,
   "id": "1312f009",
   "metadata": {},
   "outputs": [],
   "source": [
    "import torch \n",
    "from utils.checkpoint import Checkpoint\n",
    "\n",
    "device = 'cuda' if torch.cuda.is_available() else 'cpu'\n"
   ]
  },
  {
   "cell_type": "code",
   "execution_count": 18,
   "id": "f51a0d32",
   "metadata": {},
   "outputs": [],
   "source": [
    "checkpoint = Checkpoint(device)\n",
    "model_dict = checkpoint.load('loaded_models', 'slow_fast_info_main.pt')"
   ]
  },
  {
   "cell_type": "code",
   "execution_count": 19,
   "id": "87d1cb70",
   "metadata": {},
   "outputs": [
    {
     "data": {
      "text/plain": [
       "37"
      ]
     },
     "execution_count": 19,
     "metadata": {},
     "output_type": "execute_result"
    }
   ],
   "source": [
    "model_dict['epoch']"
   ]
  },
  {
   "cell_type": "code",
   "execution_count": null,
   "id": "14565f7a",
   "metadata": {},
   "outputs": [],
   "source": []
  }
 ],
 "metadata": {
  "kernelspec": {
   "display_name": "venv",
   "language": "python",
   "name": "python3"
  },
  "language_info": {
   "codemirror_mode": {
    "name": "ipython",
    "version": 3
   },
   "file_extension": ".py",
   "mimetype": "text/x-python",
   "name": "python",
   "nbconvert_exporter": "python",
   "pygments_lexer": "ipython3",
   "version": "3.13.3"
  }
 },
 "nbformat": 4,
 "nbformat_minor": 5
}
